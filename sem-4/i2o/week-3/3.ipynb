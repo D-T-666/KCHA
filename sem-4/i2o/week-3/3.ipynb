{
 "cells": [
  {
   "cell_type": "code",
   "execution_count": 3,
   "metadata": {},
   "outputs": [],
   "source": [
    "import numpy as np\n",
    "import matplotlib.pyplot as plt"
   ]
  },
  {
   "cell_type": "code",
   "execution_count": 4,
   "metadata": {},
   "outputs": [],
   "source": [
    "A = np.matrix([[1/ (i + j + 1) for j in range(5)] for i in range(5)])\n",
    "x_0 = np.matrix([1, 2, 3, 4, 5]).T"
   ]
  },
  {
   "cell_type": "code",
   "execution_count": 5,
   "metadata": {},
   "outputs": [],
   "source": [
    "def f(x):\n",
    "    return x.T @ A @ x\n",
    "\n",
    "def nabla_f(x):\n",
    "    return x.T @ (A + A.T)"
   ]
  },
  {
   "cell_type": "code",
   "execution_count": 6,
   "metadata": {},
   "outputs": [],
   "source": [
    "def gd_backtracking_step(f, nabla_f, x, S_0, beta, gamma):\n",
    "    s = -nabla_f(x).T * 1e-3\n",
    "\n",
    "    i = 1\n",
    "    while f(x) - f(x + S_0 * beta ** i * s) < -gamma * S_0 * beta ** i * nabla_f(x) @ s:\n",
    "        i += 1\n",
    "        if i > 1000:\n",
    "            break\n",
    "    \n",
    "    return x + s * beta ** i * S_0"
   ]
  },
  {
   "cell_type": "code",
   "execution_count": 7,
   "metadata": {},
   "outputs": [
    {
     "name": "stdout",
     "output_type": "stream",
     "text": [
      "0.03569677237324367\n"
     ]
    }
   ],
   "source": [
    "x = x_0\n",
    "data = []\n",
    "xs = []\n",
    "for i in range(40000):\n",
    "    x = gd_backtracking_step(f, nabla_f, x, 1, 0.5, 0.1)\n",
    "    data.append(np.linalg.norm(nabla_f(x), ord=2))\n",
    "    xs.append(f(x)[0, 0])\n",
    "\n",
    "print(min(data))"
   ]
  },
  {
   "cell_type": "code",
   "execution_count": 21,
   "metadata": {},
   "outputs": [],
   "source": [
    "with open(\"3-3.dat\", \"w\") as file:\n",
    "    file.write(\"||∇f(x)|| f(x)\\n\")\n",
    "    file.write(\"\\n\".join(map(lambda i: f'{i[0]} {i[1]}', zip(data, xs))))"
   ]
  },
  {
   "cell_type": "code",
   "execution_count": 22,
   "metadata": {},
   "outputs": [
    {
     "data": {
      "text/plain": [
       "<matplotlib.legend.Legend at 0x127893be0>"
      ]
     },
     "execution_count": 22,
     "metadata": {},
     "output_type": "execute_result"
    },
    {
     "data": {
      "image/png": "[encoded data removed]",
      "text/plain": [
       "<Figure size 640x480 with 1 Axes>"
      ]
     },
     "metadata": {},
     "output_type": "display_data"
    }
   ],
   "source": [
    "plt.plot(data)\n",
    "plt.plot(xs)\n",
    "plt.legend(['||∆f(x)||', 'f(x)'])"
   ]
  },
  {
   "cell_type": "code",
   "execution_count": 10,
   "metadata": {},
   "outputs": [],
   "source": [
    "def gd_exact_line_search(A, x):\n",
    "    s = (x.T @ A).T\n",
    "\n",
    "    sigma = -s.T @ A @ x / (s.T @ A @ s)\n",
    "\n",
    "    return x + s * sigma"
   ]
  },
  {
   "cell_type": "code",
   "execution_count": 20,
   "metadata": {},
   "outputs": [
    {
     "name": "stdout",
     "output_type": "stream",
     "text": [
      "9.9975852696532e-05\n"
     ]
    }
   ],
   "source": [
    "x = x_0\n",
    "data = []\n",
    "xs = []\n",
    "i = 0\n",
    "# for i in range(200):\n",
    "while np.linalg.norm(nabla_f(x), ord=2) > 1e-4:\n",
    "    x = gd_exact_line_search(A, x)\n",
    "    data.append(np.linalg.norm(nabla_f(x), ord=2))\n",
    "    xs.append(f(x)[0, 0])\n",
    "    i += 1\n",
    "\n",
    "print(min(data))"
   ]
  }
 ],
 "metadata": {
  "kernelspec": {
   "display_name": "Python 3",
   "language": "python",
   "name": "python3"
  },
  "language_info": {
   "codemirror_mode": {
    "name": "ipython",
    "version": 3
   },
   "file_extension": ".py",
   "mimetype": "text/x-python",
   "name": "python",
   "nbconvert_exporter": "python",
   "pygments_lexer": "ipython3",
   "version": "3.10.13"
  }
 },
 "nbformat": 4,
 "nbformat_minor": 2
}
