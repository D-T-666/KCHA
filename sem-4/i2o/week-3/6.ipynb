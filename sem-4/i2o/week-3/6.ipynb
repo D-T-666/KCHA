{
 "cells": [
  {
   "cell_type": "code",
   "execution_count": 1,
   "metadata": {},
   "outputs": [],
   "source": [
    "import numpy as np\n",
    "import matplotlib.pyplot as plt"
   ]
  },
  {
   "cell_type": "code",
   "execution_count": 16,
   "metadata": {},
   "outputs": [],
   "source": [
    "def f(x):\n",
    "    return np.exp(x[0, 0] + 3 * x[1, 0] - 0.1) + np.exp(x[0, 0] - 3 * x[1, 0] - 0.1) + np.exp(-x[0, 0] + 0.1)\n",
    "\n",
    "def nabla_f(x):\n",
    "    return np.matrix([\n",
    "        [np.exp(x[0, 0] + 3 * x[1, 0] - 0.1) + np.exp(x[0, 0] - 3 * x[1, 0] - 0.1) - np.exp(-x[0, 0] + 0.1)],\n",
    "        [3 * np.exp(x[0, 0] + 3 * x[1, 0] - 0.1) - 3 * np.exp(x[0, 0] - 3 * x[1, 0] - 0.1)]\n",
    "    ])"
   ]
  },
  {
   "cell_type": "code",
   "execution_count": 30,
   "metadata": {},
   "outputs": [],
   "source": [
    "def step(x, beta, gamma):\n",
    "    s = -nabla_f(x) / np.linalg.norm(nabla_f(x).T, ord=2)\n",
    "\n",
    "    sigma = 1\n",
    "    i = 1\n",
    "    while (f(x) - f(x + sigma * s) < -gamma * sigma * nabla_f(x).T @ s)[0, 0]:\n",
    "        i += 1\n",
    "        if i > 1000:\n",
    "            break\n",
    "        sigma *= beta\n",
    "    \n",
    "    return x + s * sigma"
   ]
  },
  {
   "cell_type": "code",
   "execution_count": 53,
   "metadata": {},
   "outputs": [],
   "source": [
    "def minimize(x, beta, gamma):\n",
    "    count = 0\n",
    "\n",
    "    while np.linalg.norm(nabla_f(x), ord=2) > 0.0001:\n",
    "        x = step(x, beta, gamma)\n",
    "        count += 1\n",
    "\n",
    "    return count"
   ]
  },
  {
   "cell_type": "code",
   "execution_count": 66,
   "metadata": {},
   "outputs": [],
   "source": [
    "total = 100\n",
    "data = []\n",
    "for i in range(1, 100):\n",
    "    sb = i / 100\n",
    "    avg = sum(minimize(np.random.normal(0, 1, (2, 1)), sb, sb) for i in \n",
    "    range(total)) / total\n",
    "    data.append((sb, avg))"
   ]
  },
  {
   "cell_type": "code",
   "execution_count": 67,
   "metadata": {},
   "outputs": [],
   "source": [
    "with open(\"plots/6-1.dat\", \"w\") as file:\n",
    "    file.write(\"value average\\n\")\n",
    "    file.write(\"\\n\".join(\n",
    "        f'{sb} {avg}' for sb, avg in data\n",
    "    ))"
   ]
  }
 ],
 "metadata": {
  "kernelspec": {
   "display_name": "Python 3",
   "language": "python",
   "name": "python3"
  },
  "language_info": {
   "codemirror_mode": {
    "name": "ipython",
    "version": 3
   },
   "file_extension": ".py",
   "mimetype": "text/x-python",
   "name": "python",
   "nbconvert_exporter": "python",
   "pygments_lexer": "ipython3",
   "version": "3.10.14"
  }
 },
 "nbformat": 4,
 "nbformat_minor": 2
}
