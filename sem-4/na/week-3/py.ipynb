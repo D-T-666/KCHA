{
 "cells": [
  {
   "cell_type": "code",
   "execution_count": 1,
   "metadata": {},
   "outputs": [],
   "source": [
    "from math import *"
   ]
  },
  {
   "cell_type": "code",
   "execution_count": 49,
   "metadata": {},
   "outputs": [],
   "source": [
    "def cos_der_der(x, h):\n",
    "    return (3 * cos(x - h) + cos(x + 3 * h) - 4 * cos(x)) / (6*h**2)"
   ]
  },
  {
   "cell_type": "code",
   "execution_count": 51,
   "metadata": {},
   "outputs": [],
   "source": [
    "def cos_der_der_extrapolated(x, h):\n",
    "    return (24 * cos(x - h / 2) + 8 * cos(x + h * 3 / 2) - 3 * cos(x - h) - cos(x + 3 * h) - 28 * cos(x)) / (6 * (h ** 2))"
   ]
  },
  {
   "cell_type": "code",
   "execution_count": 55,
   "metadata": {},
   "outputs": [
    {
     "name": "stdout",
     "output_type": "stream",
     "text": [
      "h=0.500 0.13565659 -0.06405054\n",
      "h=0.475 0.12329346 -0.05855471\n",
      "h=0.450 0.11139753 -0.05319656\n",
      "h=0.425 0.09999343 -0.04799719\n",
      "h=0.400 0.08910493 -0.04297703\n",
      "h=0.375 0.07875482 -0.03815570\n",
      "h=0.350 0.06896488 -0.03355200\n",
      "h=0.325 0.05975579 -0.02918381\n",
      "h=0.300 0.05114710 -0.02506805\n",
      "h=0.275 0.04315715 -0.02122063\n",
      "h=0.250 0.03580302 -0.01765639\n",
      "h=0.225 0.02910049 -0.01438903\n",
      "h=0.200 0.02306395 -0.01143112\n",
      "h=0.175 0.01770644 -0.00879399\n",
      "h=0.150 0.01303953 -0.00648774\n",
      "h=0.125 0.00907332 -0.00452119\n"
     ]
    }
   ],
   "source": [
    "h = 0.5\n",
    "while h >= 0.1:\n",
    "    print(f'h={h:0.3f} {cos_der_der(0, h) + cos(0):.8f} {cos_der_der_extrapolated(0, h) + cos(0):.8f}')\n",
    "    h -= 0.025"
   ]
  }
 ],
 "metadata": {
  "kernelspec": {
   "display_name": "Python 3",
   "language": "python",
   "name": "python3"
  },
  "language_info": {
   "codemirror_mode": {
    "name": "ipython",
    "version": 3
   },
   "file_extension": ".py",
   "mimetype": "text/x-python",
   "name": "python",
   "nbconvert_exporter": "python",
   "pygments_lexer": "ipython3",
   "version": "3.12.2"
  }
 },
 "nbformat": 4,
 "nbformat_minor": 2
}
