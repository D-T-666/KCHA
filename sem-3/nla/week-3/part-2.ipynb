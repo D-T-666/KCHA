{
 "cells": [
  {
   "cell_type": "code",
   "execution_count": 1,
   "metadata": {},
   "outputs": [],
   "source": [
    "import numpy as np"
   ]
  },
  {
   "cell_type": "code",
   "execution_count": 2,
   "metadata": {},
   "outputs": [],
   "source": [
    "def input_vector():\n",
    "    return [float(x) for x in input().split()]\n",
    "\n",
    "def input_matrix():\n",
    "    n = int(input())\n",
    "    v = [input_vector() for i in range(n)]\n",
    "\n",
    "    return v"
   ]
  },
  {
   "cell_type": "markdown",
   "metadata": {},
   "source": [
    "# Task 1"
   ]
  },
  {
   "cell_type": "code",
   "execution_count": 3,
   "metadata": {},
   "outputs": [],
   "source": [
    "def cond(m):\n",
    "    M = np.matrix(m)\n",
    "    M_inv = np.linalg.inv(M)\n",
    "    \n",
    "    return np.linalg.norm(M) * np.linalg.norm(M_inv)"
   ]
  },
  {
   "cell_type": "code",
   "execution_count": 4,
   "metadata": {},
   "outputs": [
    {
     "name": "stdout",
     "output_type": "stream",
     "text": [
      "The condition number of matrix:\n",
      "[[1. 2.]\n",
      " [3. 4.]]\n",
      "is equal to 14.999999999999998\n"
     ]
    }
   ],
   "source": [
    "A = np.matrix(input_matrix())\n",
    "print('The condition number of matrix:')\n",
    "print(A)\n",
    "print(f'is equal to {cond(A)}')"
   ]
  },
  {
   "cell_type": "markdown",
   "metadata": {},
   "source": [
    "# Task 2"
   ]
  },
  {
   "cell_type": "code",
   "execution_count": 5,
   "metadata": {},
   "outputs": [
    {
     "name": "stdout",
     "output_type": "stream",
     "text": [
      "the solution is:  [[1. 1.]]\n"
     ]
    }
   ],
   "source": [
    "a = input_matrix()\n",
    "b = input_vector()\n",
    "\n",
    "A = np.matrix(a)\n",
    "A_inv = np.linalg.inv(A)\n",
    "x = np.dot(A_inv, b)\n",
    "print(\"the solution is: \", x)"
   ]
  },
  {
   "cell_type": "code",
   "execution_count": 6,
   "metadata": {},
   "outputs": [
    {
     "name": "stdout",
     "output_type": "stream",
     "text": [
      "the solution is:  [[1.00020004 0.99984997]]\n"
     ]
    }
   ],
   "source": [
    "A_pert = A\n",
    "A_pert[0,0] += 0.0001\n",
    "A_pert_inv = np.linalg.inv(A_pert)\n",
    "x_pert = np.dot(A_pert_inv, b)\n",
    "print(\"the solution is: \", x_pert)"
   ]
  },
  {
   "cell_type": "code",
   "execution_count": 7,
   "metadata": {},
   "outputs": [
    {
     "name": "stdout",
     "output_type": "stream",
     "text": [
      "The system is well-cnditioned\n"
     ]
    }
   ],
   "source": [
    "print(\"The system is well-cnditioned\" if np.linalg.norm(x_pert-x) < 0.1 else \"The system is ill-cnditioned\")"
   ]
  }
 ],
 "metadata": {
  "kernelspec": {
   "display_name": "Python 3",
   "language": "python",
   "name": "python3"
  },
  "language_info": {
   "codemirror_mode": {
    "name": "ipython",
    "version": 3
   },
   "file_extension": ".py",
   "mimetype": "text/x-python",
   "name": "python",
   "nbconvert_exporter": "python",
   "pygments_lexer": "ipython3",
   "version": "3.11.5"
  }
 },
 "nbformat": 4,
 "nbformat_minor": 2
}
