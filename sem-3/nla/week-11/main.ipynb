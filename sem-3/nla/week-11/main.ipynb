{
 "cells": [
  {
   "cell_type": "code",
   "execution_count": 1,
   "metadata": {},
   "outputs": [],
   "source": [
    "import numpy as np"
   ]
  },
  {
   "cell_type": "code",
   "execution_count": 2,
   "metadata": {},
   "outputs": [],
   "source": [
    "a = np.matrix()\n",
    "b = np.matrix()\n",
    "c = np.matrix()\n",
    "d = np.matrix()"
   ]
  },
  {
   "cell_type": "code",
   "execution_count": 21,
   "metadata": {},
   "outputs": [],
   "source": [
    "def jacobi_iteration(A, x, b):\n",
    "    n = len(x)\n",
    "    return [\n",
    "        (b[i] - sum(A[i][j] * x[j] for j in range(n) if i != j)) / A[i][i]\n",
    "        for i in range(n)\n",
    "    ]"
   ]
  },
  {
   "cell_type": "code",
   "execution_count": 31,
   "metadata": {},
   "outputs": [],
   "source": [
    "def gauss_seidel_iteration(A, x, b):\n",
    "    n = len(x)\n",
    "    for i in range(n):\n",
    "        x[i] = (b[i] - sum(A[i][j] * x[j] for j in range(n) if i != j)) / A[i][i]\n",
    "    return x"
   ]
  },
  {
   "cell_type": "markdown",
   "metadata": {},
   "source": [
    "## 1.(a)"
   ]
  },
  {
   "cell_type": "code",
   "execution_count": 24,
   "metadata": {},
   "outputs": [
    {
     "name": "stdout",
     "output_type": "stream",
     "text": [
      "iter 1 [0.3333333333333333, 0.0, 0.5714285714285714]\n",
      "iter 2 [0.14285714285714288, -0.35714285714285715, 0.42857142857142855]\n"
     ]
    }
   ],
   "source": [
    "A = [[3, -1, 1], [3, 6, 2], [3, 3, 7]]\n",
    "x = [0, 0, 0]\n",
    "b = [1, 0, 4]\n",
    "print(\"iter 1\", jacobi_iteration(A, x, b))\n",
    "print(\"iter 2\", jacobi_iteration(A, jacobi_iteration(A, x, b), b))"
   ]
  },
  {
   "cell_type": "markdown",
   "metadata": {},
   "source": [
    "## 1.(b)"
   ]
  },
  {
   "cell_type": "code",
   "execution_count": 25,
   "metadata": {},
   "outputs": [
    {
     "name": "stdout",
     "output_type": "stream",
     "text": [
      "iter 1 [0.9, 0.7, 0.6]\n",
      "iter 2 [0.97, 0.67, 0.74]\n"
     ]
    }
   ],
   "source": [
    "A = [[10, -1, 0], [-1, 10, 2], [0, -2, 10]]\n",
    "x = [0, 0, 0]\n",
    "b = [9, 7, 6]\n",
    "print(\"iter 1\", jacobi_iteration(A, x, b))\n",
    "print(\"iter 2\", jacobi_iteration(A, jacobi_iteration(A, x, b), b))"
   ]
  },
  {
   "cell_type": "markdown",
   "metadata": {},
   "source": [
    "## 1.(c)"
   ]
  },
  {
   "cell_type": "code",
   "execution_count": 29,
   "metadata": {},
   "outputs": [
    {
     "name": "stdout",
     "output_type": "stream",
     "text": [
      "iter 1 [0.6, 2.5, -1.375, -2.2]\n",
      "iter 2 [-0.65, 1.65, -0.4, -2.475]\n"
     ]
    }
   ],
   "source": [
    "A = [[10, 5, 0, 0], [5, 10, -4, 0], [0, -4, 8, -1], [0, 0, -1, 5]]\n",
    "x = [0, 0, 0, 0]\n",
    "b = [6, 25, -11, -11]\n",
    "print(\"iter 1\", jacobi_iteration(A, x, b))\n",
    "print(\"iter 2\", jacobi_iteration(A, jacobi_iteration(A, x, b), b))"
   ]
  },
  {
   "cell_type": "markdown",
   "metadata": {},
   "source": [
    "## 1.(d)"
   ]
  },
  {
   "cell_type": "code",
   "execution_count": 30,
   "metadata": {},
   "outputs": [
    {
     "name": "stdout",
     "output_type": "stream",
     "text": [
      "iter 1 [1.5, -2.0, 1.2, 1.5, 1.5]\n",
      "iter 2 [1.325, -1.5999999999999999, 1.6, 1.675, 2.425]\n"
     ]
    }
   ],
   "source": [
    "A = [\n",
    "    [ 4,  1,  1,  0,  1], \n",
    "    [-1, -3,  1,  1,  0], \n",
    "    [ 2,  1,  5, -1, -1],\n",
    "    [-1, -1, -1,  4,  0],\n",
    "    [ 0,  2, -1,  1,  4]\n",
    "]\n",
    "x = [0, 0, 0, 0, 0]\n",
    "b = [6, 6, 6, 6, 6]\n",
    "print(\"iter 1\", jacobi_iteration(A, x, b))\n",
    "print(\"iter 2\", jacobi_iteration(A, jacobi_iteration(A, x, b), b))"
   ]
  },
  {
   "cell_type": "markdown",
   "metadata": {},
   "source": [
    "## 2.(a)"
   ]
  },
  {
   "cell_type": "code",
   "execution_count": 32,
   "metadata": {},
   "outputs": [
    {
     "name": "stdout",
     "output_type": "stream",
     "text": [
      "iter 1 [0.3333333333333333, -0.16666666666666666, 0.5]\n",
      "iter 2 [0.05291005291005294, -0.2328042328042328, 0.6485260770975056]\n"
     ]
    }
   ],
   "source": [
    "A = [[3, -1, 1], [3, 6, 2], [3, 3, 7]]\n",
    "x = [0, 0, 0]\n",
    "b = [1, 0, 4]\n",
    "print(\"iter 1\", gauss_seidel_iteration(A, x, b))\n",
    "print(\"iter 2\", gauss_seidel_iteration(A, gauss_seidel_iteration(A, x, b), b))"
   ]
  },
  {
   "cell_type": "markdown",
   "metadata": {},
   "source": [
    "## 2.(b)"
   ]
  },
  {
   "cell_type": "code",
   "execution_count": 33,
   "metadata": {},
   "outputs": [
    {
     "name": "stdout",
     "output_type": "stream",
     "text": [
      "iter 1 [0.9, 0.79, 0.758]\n",
      "iter 2 [0.96463, 0.6506109999999999, 0.7301222]\n"
     ]
    }
   ],
   "source": [
    "A = [[10, -1, 0], [-1, 10, 2], [0, -2, 10]]\n",
    "x = [0, 0, 0]\n",
    "b = [9, 7, 6]\n",
    "print(\"iter 1\", gauss_seidel_iteration(A, x, b))\n",
    "print(\"iter 2\", gauss_seidel_iteration(A, gauss_seidel_iteration(A, x, b), b))"
   ]
  },
  {
   "cell_type": "markdown",
   "metadata": {},
   "source": [
    "## 2.(c)"
   ]
  },
  {
   "cell_type": "code",
   "execution_count": 34,
   "metadata": {},
   "outputs": [
    {
     "name": "stdout",
     "output_type": "stream",
     "text": [
      "iter 1 [0.6, 2.2, -0.2749999999999999, -2.255]\n",
      "iter 2 [-0.72, 2.72525, -0.29579687499999996, -2.2591593750000003]\n"
     ]
    }
   ],
   "source": [
    "A = [[10, 5, 0, 0], [5, 10, -4, 0], [0, -4, 8, -1], [0, 0, -1, 5]]\n",
    "x = [0, 0, 0, 0]\n",
    "b = [6, 25, -11, -11]\n",
    "print(\"iter 1\", gauss_seidel_iteration(A, x, b))\n",
    "print(\"iter 2\", gauss_seidel_iteration(A, gauss_seidel_iteration(A, x, b), b))"
   ]
  },
  {
   "cell_type": "markdown",
   "metadata": {},
   "source": [
    "## 2.(d)"
   ]
  },
  {
   "cell_type": "code",
   "execution_count": 35,
   "metadata": {},
   "outputs": [
    {
     "name": "stdout",
     "output_type": "stream",
     "text": [
      "iter 1 [1.5, -2.5, 1.1, 1.525, 2.64375]\n",
      "iter 2 [0.8508284505208334, -1.0353021918402778, 1.8943631727430557, 1.9274723578559028, 2.009373799641927]\n"
     ]
    }
   ],
   "source": [
    "A = [\n",
    "    [ 4,  1,  1,  0,  1], \n",
    "    [-1, -3,  1,  1,  0], \n",
    "    [ 2,  1,  5, -1, -1],\n",
    "    [-1, -1, -1,  4,  0],\n",
    "    [ 0,  2, -1,  1,  4]\n",
    "]\n",
    "x = [0, 0, 0, 0, 0]\n",
    "b = [6, 6, 6, 6, 6]\n",
    "print(\"iter 1\", gauss_seidel_iteration(A, x, b))\n",
    "print(\"iter 2\", gauss_seidel_iteration(A, gauss_seidel_iteration(A, x, b), b))"
   ]
  },
  {
   "cell_type": "markdown",
   "metadata": {},
   "source": [
    "# 3"
   ]
  },
  {
   "cell_type": "code",
   "execution_count": 68,
   "metadata": {},
   "outputs": [],
   "source": [
    "TOL = 1e-3\n",
    "\n",
    "def l_inf(x):\n",
    "    return max(abs(x_i) for x_i in x)\n",
    "\n",
    "def jacobi_method(A, b):\n",
    "    x = [np.random.uniform(-3, 3) for _ in range(len(b))]\n",
    "    px = x\n",
    "    tol = 1\n",
    "    while tol > TOL:\n",
    "        px = x\n",
    "        x = jacobi_iteration(A, x, b)\n",
    "        tol = l_inf([px[i] - x[i] for i in range(len(x))]) / l_inf(x)\n",
    "    return x"
   ]
  },
  {
   "cell_type": "markdown",
   "metadata": {},
   "source": [
    "## 3.(a)"
   ]
  },
  {
   "cell_type": "code",
   "execution_count": 96,
   "metadata": {},
   "outputs": [
    {
     "name": "stdout",
     "output_type": "stream",
     "text": [
      "[0.03509900647404477, -0.2367060745497452, 0.658047016930294]\n"
     ]
    }
   ],
   "source": [
    "A = [[3, -1, 1], [3, 6, 2], [3, 3, 7]]\n",
    "b = [1, 0, 4]\n",
    "print(jacobi_method(A, b))"
   ]
  },
  {
   "cell_type": "markdown",
   "metadata": {},
   "source": [
    "## 3.(b)"
   ]
  },
  {
   "cell_type": "code",
   "execution_count": 108,
   "metadata": {},
   "outputs": [
    {
     "name": "stdout",
     "output_type": "stream",
     "text": [
      "[0.965087950161004, 0.6505780110623318, 0.730175900322008]\n"
     ]
    }
   ],
   "source": [
    "A = [[10, -1, 0], [-1, 10, 2], [0, -2, 10]]\n",
    "b = [9, 7, 6]\n",
    "print(jacobi_method(A, b))"
   ]
  },
  {
   "cell_type": "markdown",
   "metadata": {},
   "source": [
    "## 3.(c)"
   ]
  },
  {
   "cell_type": "code",
   "execution_count": 113,
   "metadata": {},
   "outputs": [
    {
     "name": "stdout",
     "output_type": "stream",
     "text": [
      "[-0.7976089246000958, 2.7936789486528193, -0.2588638479465164, -2.2521347705221313]\n"
     ]
    }
   ],
   "source": [
    "A = [[10, 5, 0, 0], [5, 10, -4, 0], [0, -4, 8, -1], [0, 0, -1, 5]]\n",
    "b = [6, 25, -11, -11]\n",
    "print(jacobi_method(A, b))"
   ]
  },
  {
   "cell_type": "markdown",
   "metadata": {},
   "source": [
    "## 3.(d)"
   ]
  },
  {
   "cell_type": "code",
   "execution_count": 122,
   "metadata": {},
   "outputs": [
    {
     "name": "stdout",
     "output_type": "stream",
     "text": [
      "[0.7871391066800851, -1.0032457267599788, 1.865737889990393, 1.9125992237542082, 1.9901882456657336]\n"
     ]
    }
   ],
   "source": [
    "A = [\n",
    "    [ 4,  1,  1,  0,  1], \n",
    "    [-1, -3,  1,  1,  0], \n",
    "    [ 2,  1,  5, -1, -1],\n",
    "    [-1, -1, -1,  4,  0],\n",
    "    [ 0,  2, -1,  1,  4]\n",
    "]\n",
    "b = [6, 6, 6, 6, 6]\n",
    "print(jacobi_method(A, b))"
   ]
  },
  {
   "cell_type": "markdown",
   "metadata": {},
   "source": [
    "# 4"
   ]
  },
  {
   "cell_type": "code",
   "execution_count": null,
   "metadata": {},
   "outputs": [],
   "source": [
    "TOL = 1e-3\n",
    "\n",
    "def l_inf(x):\n",
    "    return max(abs(x_i) for x_i in x)\n",
    "\n",
    "def gauss_seidel_method(A, b):\n",
    "    x = [np.random.uniform(-3, 3) for _ in range(len(b))]\n",
    "    px = x\n",
    "    tol = 1\n",
    "    while tol > TOL:\n",
    "        px = x\n",
    "        x = gauss_seidel_iteration(A, x, b)\n",
    "        tol = l_inf([px[i] - x[i] for i in range(len(x))]) / l_inf(x)\n",
    "    return x"
   ]
  }
 ],
 "metadata": {
  "kernelspec": {
   "display_name": "Python 3",
   "language": "python",
   "name": "python3"
  },
  "language_info": {
   "codemirror_mode": {
    "name": "ipython",
    "version": 3
   },
   "file_extension": ".py",
   "mimetype": "text/x-python",
   "name": "python",
   "nbconvert_exporter": "python",
   "pygments_lexer": "ipython3",
   "version": "3.11.6"
  }
 },
 "nbformat": 4,
 "nbformat_minor": 2
}
